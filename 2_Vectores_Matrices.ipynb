{
 "cells": [
  {
   "cell_type": "code",
   "execution_count": 1,
   "metadata": {},
   "outputs": [],
   "source": [
    "import numpy as np"
   ]
  },
  {
   "cell_type": "markdown",
   "metadata": {},
   "source": [
    "# Operaciones con Vectores y Matrices"
   ]
  },
  {
   "cell_type": "raw",
   "metadata": {},
   "source": [
    "# Las Operaciones aritméticas, pueden realizarse entre arrays que tienen la misma dimension"
   ]
  },
  {
   "cell_type": "code",
   "execution_count": 2,
   "metadata": {},
   "outputs": [],
   "source": [
    "a1 = np.array([3,5,6])\n",
    "a2 = np.array([6,3,1])"
   ]
  },
  {
   "cell_type": "code",
   "execution_count": 3,
   "metadata": {},
   "outputs": [
    {
     "name": "stdout",
     "output_type": "stream",
     "text": [
      "[3 5 6]\n",
      "----------\n",
      "[6 3 1]\n"
     ]
    }
   ],
   "source": [
    "print (a1)\n",
    "print (\"----------\")\n",
    "print (a2)"
   ]
  },
  {
   "cell_type": "code",
   "execution_count": 4,
   "metadata": {},
   "outputs": [
    {
     "name": "stdout",
     "output_type": "stream",
     "text": [
      "[3 5 6]\n",
      "+\n",
      "[6 3 1]\n",
      "========\n"
     ]
    },
    {
     "data": {
      "text/plain": [
       "array([9, 8, 7])"
      ]
     },
     "execution_count": 4,
     "metadata": {},
     "output_type": "execute_result"
    }
   ],
   "source": [
    "print (a1)\n",
    "print (\"+\")\n",
    "print (a2)\n",
    "print (\"========\")\n",
    "a1 + a2"
   ]
  },
  {
   "cell_type": "code",
   "execution_count": 5,
   "metadata": {},
   "outputs": [
    {
     "name": "stdout",
     "output_type": "stream",
     "text": [
      "[3 5 6]\n",
      "-\n",
      "[6 3 1]\n",
      "========\n"
     ]
    },
    {
     "data": {
      "text/plain": [
       "array([-3,  2,  5])"
      ]
     },
     "execution_count": 5,
     "metadata": {},
     "output_type": "execute_result"
    }
   ],
   "source": [
    "# Resta \n",
    "print (a1)\n",
    "print (\"-\")\n",
    "print (a2)\n",
    "print (\"========\")\n",
    "a1 - a2"
   ]
  },
  {
   "cell_type": "code",
   "execution_count": 6,
   "metadata": {},
   "outputs": [
    {
     "name": "stdout",
     "output_type": "stream",
     "text": [
      "[3 5 6]\n",
      "*\n",
      "[6 3 1]\n",
      "========\n"
     ]
    },
    {
     "data": {
      "text/plain": [
       "array([18, 15,  6])"
      ]
     },
     "execution_count": 6,
     "metadata": {},
     "output_type": "execute_result"
    }
   ],
   "source": [
    "# Multiplicación\n",
    "print (a1)\n",
    "print (\"*\")\n",
    "print (a2)\n",
    "print (\"========\")\n",
    "a1 * a2"
   ]
  },
  {
   "cell_type": "code",
   "execution_count": 7,
   "metadata": {},
   "outputs": [
    {
     "name": "stdout",
     "output_type": "stream",
     "text": [
      "[3 5 6]\n",
      "/\n",
      "[6 3 1]\n",
      "========\n"
     ]
    },
    {
     "data": {
      "text/plain": [
       "array([0.5       , 1.66666667, 6.        ])"
      ]
     },
     "execution_count": 7,
     "metadata": {},
     "output_type": "execute_result"
    }
   ],
   "source": [
    "# División\n",
    "print (a1)\n",
    "print (\"/\")\n",
    "print (a2)\n",
    "print (\"========\")\n",
    "a1 / a2"
   ]
  },
  {
   "cell_type": "markdown",
   "metadata": {},
   "source": [
    "# Broadcasting"
   ]
  },
  {
   "cell_type": "raw",
   "metadata": {},
   "source": [
    "# Broadcasting resuelve el problema de aritmética entre arrays de distintos tamaños"
   ]
  },
  {
   "cell_type": "raw",
   "metadata": {},
   "source": [
    "# Array de una dimensión más un escalar"
   ]
  },
  {
   "cell_type": "code",
   "execution_count": 8,
   "metadata": {},
   "outputs": [
    {
     "name": "stdout",
     "output_type": "stream",
     "text": [
      "(3,)\n"
     ]
    },
    {
     "data": {
      "text/plain": [
       "array([3, 5, 6])"
      ]
     },
     "execution_count": 8,
     "metadata": {},
     "output_type": "execute_result"
    }
   ],
   "source": [
    "print(a1.shape)\n",
    "a1"
   ]
  },
  {
   "cell_type": "code",
   "execution_count": 9,
   "metadata": {},
   "outputs": [
    {
     "data": {
      "text/plain": [
       "5"
      ]
     },
     "execution_count": 9,
     "metadata": {},
     "output_type": "execute_result"
    }
   ],
   "source": [
    "b = 5\n",
    "b"
   ]
  },
  {
   "cell_type": "code",
   "execution_count": null,
   "metadata": {},
   "outputs": [],
   "source": [
    "# a1 + b\n",
    "# El escalar , será internamente replicado por numpy hasta alcanzar el tamaño de a1\n",
    "# b quedará como b=[ 5, 5, 5]"
   ]
  },
  {
   "cell_type": "code",
   "execution_count": 10,
   "metadata": {},
   "outputs": [
    {
     "name": "stdout",
     "output_type": "stream",
     "text": [
      "[3 5 6]\n",
      "+\n",
      "5\n",
      "========\n"
     ]
    },
    {
     "data": {
      "text/plain": [
       "array([ 8, 10, 11])"
      ]
     },
     "execution_count": 10,
     "metadata": {},
     "output_type": "execute_result"
    }
   ],
   "source": [
    "print(a1)\n",
    "print(\"+\")\n",
    "print(b)\n",
    "print (\"========\")\n",
    "a1 + b"
   ]
  },
  {
   "cell_type": "code",
   "execution_count": 11,
   "metadata": {},
   "outputs": [
    {
     "name": "stdout",
     "output_type": "stream",
     "text": [
      "[3 5 6]\n",
      "*\n",
      "5\n",
      "========\n"
     ]
    },
    {
     "data": {
      "text/plain": [
       "array([15, 25, 30])"
      ]
     },
     "execution_count": 11,
     "metadata": {},
     "output_type": "execute_result"
    }
   ],
   "source": [
    "print(a1)\n",
    "print(\"*\")\n",
    "print(b)\n",
    "print (\"========\")\n",
    "a1 * b"
   ]
  },
  {
   "cell_type": "raw",
   "metadata": {},
   "source": [
    "# En arrays con 2 dimensiones con un escalar"
   ]
  },
  {
   "cell_type": "code",
   "execution_count": 12,
   "metadata": {},
   "outputs": [
    {
     "data": {
      "text/plain": [
       "array([[3, 5, 6],\n",
       "       [8, 3, 2],\n",
       "       [3, 4, 9]])"
      ]
     },
     "execution_count": 12,
     "metadata": {},
     "output_type": "execute_result"
    }
   ],
   "source": [
    "a3 = np.array([[3,5,6], [8,3,2],[3,4,9]])\n",
    "a3"
   ]
  },
  {
   "cell_type": "code",
   "execution_count": 13,
   "metadata": {},
   "outputs": [],
   "source": [
    "b2 = 3"
   ]
  },
  {
   "cell_type": "code",
   "execution_count": null,
   "metadata": {},
   "outputs": [],
   "source": [
    "# a3 + b2\n",
    "# El escalar debe alcanzar las dimensiones del array de 2 dimensiones\n",
    "#    [[3, 3, 3],\n",
    "#    [3, 3, 3],\n",
    "#    [3, 3, 3]]"
   ]
  },
  {
   "cell_type": "code",
   "execution_count": 14,
   "metadata": {},
   "outputs": [
    {
     "data": {
      "text/plain": [
       "array([[ 6,  8,  9],\n",
       "       [11,  6,  5],\n",
       "       [ 6,  7, 12]])"
      ]
     },
     "execution_count": 14,
     "metadata": {},
     "output_type": "execute_result"
    }
   ],
   "source": [
    "a3 + b2"
   ]
  },
  {
   "cell_type": "raw",
   "metadata": {},
   "source": [
    "# Arrays de una dimension con arrays de 2 dimensiones"
   ]
  },
  {
   "cell_type": "code",
   "execution_count": 15,
   "metadata": {},
   "outputs": [
    {
     "data": {
      "text/plain": [
       "array([[3, 5, 6],\n",
       "       [8, 3, 2],\n",
       "       [3, 4, 9]])"
      ]
     },
     "execution_count": 15,
     "metadata": {},
     "output_type": "execute_result"
    }
   ],
   "source": [
    "a3"
   ]
  },
  {
   "cell_type": "code",
   "execution_count": 17,
   "metadata": {},
   "outputs": [
    {
     "data": {
      "text/plain": [
       "array([3, 5, 6])"
      ]
     },
     "execution_count": 17,
     "metadata": {},
     "output_type": "execute_result"
    }
   ],
   "source": [
    "a1"
   ]
  },
  {
   "cell_type": "raw",
   "metadata": {},
   "source": [
    "# a3 + a1\n",
    "# El array de menor dimension debe replicarse a traves de las filas\n",
    "# En este caso, el array a1 quedará como:\n",
    "\n",
    "# [3, 5, 6]\n",
    "# [3, 5, 6]\n",
    "# [3, 5, 6]"
   ]
  },
  {
   "cell_type": "code",
   "execution_count": 18,
   "metadata": {},
   "outputs": [
    {
     "data": {
      "text/plain": [
       "array([[ 6, 10, 12],\n",
       "       [11,  8,  8],\n",
       "       [ 6,  9, 15]])"
      ]
     },
     "execution_count": 18,
     "metadata": {},
     "output_type": "execute_result"
    }
   ],
   "source": [
    "a3 + a1"
   ]
  },
  {
   "cell_type": "code",
   "execution_count": null,
   "metadata": {},
   "outputs": [],
   "source": [
    "# Broadcasting solo puede realizarse si las últimas dimensiones del array son iguales ó al menos una de las dimensiones es igual a 1"
   ]
  },
  {
   "cell_type": "code",
   "execution_count": null,
   "metadata": {},
   "outputs": [],
   "source": []
  }
 ],
 "metadata": {
  "kernelspec": {
   "display_name": "Python 3",
   "language": "python",
   "name": "python3"
  },
  "language_info": {
   "codemirror_mode": {
    "name": "ipython",
    "version": 3
   },
   "file_extension": ".py",
   "mimetype": "text/x-python",
   "name": "python",
   "nbconvert_exporter": "python",
   "pygments_lexer": "ipython3",
   "version": "3.6.5"
  }
 },
 "nbformat": 4,
 "nbformat_minor": 2
}
