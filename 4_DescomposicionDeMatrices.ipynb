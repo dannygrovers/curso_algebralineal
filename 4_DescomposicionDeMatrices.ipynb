{
 "cells": [
  {
   "cell_type": "code",
   "execution_count": 1,
   "metadata": {},
   "outputs": [],
   "source": [
    "import numpy as np"
   ]
  },
  {
   "cell_type": "markdown",
   "metadata": {},
   "source": [
    "# Descomposición de matrices"
   ]
  },
  {
   "cell_type": "markdown",
   "metadata": {},
   "source": [
    "La descomposion de matrices, es util para reducir las matrices en elementos más sencillos que simplifiquen las operaciones complejas.\n"
   ]
  },
  {
   "cell_type": "markdown",
   "metadata": {},
   "source": [
    "## Eigen decomposition\n",
    "\n",
    "##### Valores propios - Eigen values\n",
    "##### Vectores propios - Eigen vectors\n",
    "\n",
    "\n",
    "Eigen decomposition descompone la matriz en eigen vectors y en eigen values, tal que\n",
    "\n",
    "                                                                              \n",
    "$ Av = \\lambda v $\n",
    "\n",
    "\n",
    "Donde: \n",
    "\n",
    "$ v $ el el eigen vector  , $ v \\neq 0 $\n",
    "\n",
    "$ \\lambda $ es el eigen value\n",
    "\n",
    "                                                                         "
   ]
  },
  {
   "cell_type": "code",
   "execution_count": 2,
   "metadata": {},
   "outputs": [
    {
     "data": {
      "text/plain": [
       "array([[ 1,  2,  0],\n",
       "       [ 0,  3,  0],\n",
       "       [ 2, -4,  2]])"
      ]
     },
     "execution_count": 2,
     "metadata": {},
     "output_type": "execute_result"
    }
   ],
   "source": [
    "A = np.array([[1, 2, 0], [0, 3, 0], [2, -4,2]] )\n",
    "A"
   ]
  },
  {
   "cell_type": "code",
   "execution_count": 3,
   "metadata": {},
   "outputs": [],
   "source": [
    "# Vamos a obtener los eigen vectors y eigen values de la matriz A\n",
    "eigen_values, eigen_vectors = np.linalg.eig(A)"
   ]
  },
  {
   "cell_type": "code",
   "execution_count": 4,
   "metadata": {},
   "outputs": [
    {
     "name": "stdout",
     "output_type": "stream",
     "text": [
      "Eigen Value\n",
      "[2. 1. 3.]\n",
      "---------------\n",
      "Eigen Vector\n",
      "[[ 0.          0.4472136   0.40824829]\n",
      " [ 0.          0.          0.40824829]\n",
      " [ 1.         -0.89442719 -0.81649658]]\n"
     ]
    }
   ],
   "source": [
    "print(\"Eigen Value\")\n",
    "print(eigen_values)\n",
    "print(\"---------------\")\n",
    "print(\"Eigen Vector\")\n",
    "print(eigen_vectors)"
   ]
  },
  {
   "cell_type": "markdown",
   "metadata": {},
   "source": [
    "# Reconstrucción de la matriz A \n",
    "\n",
    "A partir de sus Eigen Values y de sus Eigen Vectors\n",
    "\n",
    "$ A = Q \\Lambda Q^{-1} $\n",
    "\n",
    "Donde:\n",
    "\n",
    "$ Q $ es la matriz de eigenvectors\n",
    "\n",
    "$ \\Lambda $ es la matriz diagonal de eigenvalues"
   ]
  },
  {
   "cell_type": "code",
   "execution_count": 5,
   "metadata": {},
   "outputs": [],
   "source": [
    "# Creamos Q - Matriz de EigenVectors\n",
    "Q = eigen_vectors"
   ]
  },
  {
   "cell_type": "code",
   "execution_count": 6,
   "metadata": {},
   "outputs": [],
   "source": [
    "# Creamos la matriz diagonal de los eigenvalues\n",
    "L_matrix = np.diag(eigen_values) "
   ]
  },
  {
   "cell_type": "code",
   "execution_count": 7,
   "metadata": {},
   "outputs": [],
   "source": [
    "# Creamos la inversa de Q\n",
    "Q_inv = np.linalg.inv(Q)"
   ]
  },
  {
   "cell_type": "code",
   "execution_count": 8,
   "metadata": {},
   "outputs": [
    {
     "data": {
      "text/plain": [
       "array([[ 1.,  2.,  0.],\n",
       "       [ 0.,  3.,  0.],\n",
       "       [ 2., -4.,  2.]])"
      ]
     },
     "execution_count": 8,
     "metadata": {},
     "output_type": "execute_result"
    }
   ],
   "source": [
    "# Reconstruimos la matriz original\n",
    "A_reconstruida = Q.dot(L_matrix).dot(Q_inv)\n",
    "A_reconstruida"
   ]
  },
  {
   "cell_type": "code",
   "execution_count": 9,
   "metadata": {},
   "outputs": [
    {
     "data": {
      "text/plain": [
       "array([[ 1,  2,  0],\n",
       "       [ 0,  3,  0],\n",
       "       [ 2, -4,  2]])"
      ]
     },
     "execution_count": 9,
     "metadata": {},
     "output_type": "execute_result"
    }
   ],
   "source": [
    "# La matriz original era: \n",
    "A"
   ]
  },
  {
   "cell_type": "code",
   "execution_count": 10,
   "metadata": {},
   "outputs": [],
   "source": [
    "# No todas las matrices pueden descomponerse en Eigen Values y Eigen Vectors"
   ]
  }
 ],
 "metadata": {
  "kernelspec": {
   "display_name": "Python 3",
   "language": "python",
   "name": "python3"
  },
  "language_info": {
   "codemirror_mode": {
    "name": "ipython",
    "version": 3
   },
   "file_extension": ".py",
   "mimetype": "text/x-python",
   "name": "python",
   "nbconvert_exporter": "python",
   "pygments_lexer": "ipython3",
   "version": "3.6.5"
  }
 },
 "nbformat": 4,
 "nbformat_minor": 2
}
