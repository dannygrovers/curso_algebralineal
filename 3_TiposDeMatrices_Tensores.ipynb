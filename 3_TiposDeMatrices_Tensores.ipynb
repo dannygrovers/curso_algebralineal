{
 "cells": [
  {
   "cell_type": "code",
   "execution_count": 1,
   "metadata": {},
   "outputs": [],
   "source": [
    "import numpy as np"
   ]
  },
  {
   "cell_type": "markdown",
   "metadata": {},
   "source": [
    "# Tipos de matrices y sus operaciones"
   ]
  },
  {
   "cell_type": "markdown",
   "metadata": {},
   "source": [
    "## Matriz cuadrada"
   ]
  },
  {
   "cell_type": "code",
   "execution_count": 2,
   "metadata": {},
   "outputs": [
    {
     "data": {
      "text/plain": [
       "array([[2, 4],\n",
       "       [3, 4]])"
      ]
     },
     "execution_count": 2,
     "metadata": {},
     "output_type": "execute_result"
    }
   ],
   "source": [
    "# El número de filas es igual al número de columnas\n",
    "\n",
    "A = np.array([[2,4],[3,4]])\n",
    "A"
   ]
  },
  {
   "cell_type": "code",
   "execution_count": 3,
   "metadata": {},
   "outputs": [
    {
     "name": "stdout",
     "output_type": "stream",
     "text": [
      "(2, 2)\n"
     ]
    }
   ],
   "source": [
    "# Dimensiones de la matriz\n",
    "print(A.shape)"
   ]
  },
  {
   "cell_type": "markdown",
   "metadata": {},
   "source": [
    "## Matriz simétrica"
   ]
  },
  {
   "cell_type": "code",
   "execution_count": 4,
   "metadata": {},
   "outputs": [
    {
     "data": {
      "text/plain": [
       "array([[5, 6, 7],\n",
       "       [6, 3, 2],\n",
       "       [7, 2, 1]])"
      ]
     },
     "execution_count": 4,
     "metadata": {},
     "output_type": "execute_result"
    }
   ],
   "source": [
    "# Es una matriz cuadrada donde la triangular superior es igual a la triangular inferior de la matriz\n",
    "S = np.array([[5, 6, 7], [6, 3, 2], [7, 2, 1]])\n",
    "S"
   ]
  },
  {
   "cell_type": "code",
   "execution_count": 5,
   "metadata": {},
   "outputs": [
    {
     "name": "stdout",
     "output_type": "stream",
     "text": [
      "[[5 6 7]\n",
      " [6 3 2]\n",
      " [7 2 1]]\n"
     ]
    },
    {
     "data": {
      "text/plain": [
       "array([[ True,  True,  True],\n",
       "       [ True,  True,  True],\n",
       "       [ True,  True,  True]])"
      ]
     },
     "execution_count": 5,
     "metadata": {},
     "output_type": "execute_result"
    }
   ],
   "source": [
    "# Es una matriz simétrica cuando la matriz es igual a su traspuesta\n",
    "print(S.T)\n",
    "\n",
    "S == S.T"
   ]
  },
  {
   "cell_type": "markdown",
   "metadata": {},
   "source": [
    "## Traspuesta de una matriz [Operación]"
   ]
  },
  {
   "cell_type": "code",
   "execution_count": 6,
   "metadata": {},
   "outputs": [
    {
     "name": "stdout",
     "output_type": "stream",
     "text": [
      "Matriz Original\n",
      "[[1 2 9]\n",
      " [3 4 8]\n",
      " [5 6 7]]\n",
      "---------------\n",
      "Transpuesta de la matriz\n"
     ]
    },
    {
     "data": {
      "text/plain": [
       "array([[1, 3, 5],\n",
       "       [2, 4, 6],\n",
       "       [9, 8, 7]])"
      ]
     },
     "execution_count": 6,
     "metadata": {},
     "output_type": "execute_result"
    }
   ],
   "source": [
    "# Basicamente consiste en intercambiar los valores de las filas por los valores de las columnas\n",
    "TR = np.array([\n",
    "   [1, 2, 9],\n",
    "   [3, 4, 8],\n",
    "   [5, 6, 7]\n",
    "])\n",
    "print(\"Matriz Original\")\n",
    "print(TR)\n",
    "print(\"---------------\")\n",
    "print (\"Traspuesta de la matriz\")\n",
    "TR.T"
   ]
  },
  {
   "cell_type": "code",
   "execution_count": 7,
   "metadata": {},
   "outputs": [
    {
     "name": "stdout",
     "output_type": "stream",
     "text": [
      "Matriz Original\n",
      "[[1 0 9]\n",
      " [3 4 8]]\n",
      "---------------\n",
      "Transpuesta de la matriz\n"
     ]
    },
    {
     "data": {
      "text/plain": [
       "array([[1, 3],\n",
       "       [0, 4],\n",
       "       [9, 8]])"
      ]
     },
     "execution_count": 7,
     "metadata": {},
     "output_type": "execute_result"
    }
   ],
   "source": [
    "# Veamos la matriz traspuesta en una matriz rectangular\n",
    "TR2 = np.array([\n",
    "   [1, 0, 9],\n",
    "   [3, 4, 8]\n",
    "])\n",
    "print(\"Matriz Original\")\n",
    "print(TR2)\n",
    "print(\"---------------\")\n",
    "print (\"Traspuesta de la matriz\")\n",
    "TR2.T"
   ]
  },
  {
   "cell_type": "markdown",
   "metadata": {},
   "source": [
    "## Matriz triangular"
   ]
  },
  {
   "cell_type": "code",
   "execution_count": 8,
   "metadata": {},
   "outputs": [
    {
     "name": "stdout",
     "output_type": "stream",
     "text": [
      "Matriz Original\n",
      "[[ 1  2  9 22]\n",
      " [ 3  4  8 32]\n",
      " [ 5  6  7 42]\n",
      " [ 9  2  3 62]]\n",
      "----------------------------\n",
      "Matriz Triangular inferior\n",
      "[[ 1  0  0  0]\n",
      " [ 3  4  0  0]\n",
      " [ 5  6  7  0]\n",
      " [ 9  2  3 62]]\n",
      "----------------------------\n",
      "Matriz Triangular Superior\n",
      "[[ 1  2  9 22]\n",
      " [ 0  4  8 32]\n",
      " [ 0  0  7 42]\n",
      " [ 0  0  0 62]]\n"
     ]
    }
   ],
   "source": [
    "# Es una matriz cuadrada que tiene valores de 0 por encima o debajo de la diagonal principal \n",
    "# Triangular inferior\n",
    "TRI =  np.array([\n",
    "   [1, 2, 9, 22],\n",
    "   [3, 4, 8, 32],\n",
    "   [5, 6, 7, 42],\n",
    "   [9, 2, 3, 62]\n",
    "])\n",
    "print(\"Matriz Original\")\n",
    "print(TRI)\n",
    "print(\"----------------------------\")\n",
    "print(\"Matriz Triangular inferior\")\n",
    "TRI_INFERIOR = np.tril(TRI)\n",
    "print(TRI_INFERIOR)\n",
    "print(\"----------------------------\")\n",
    "print(\"Matriz Triangular Superior\")\n",
    "TRI_SUPERIOR = np.triu(TRI)\n",
    "print(TRI_SUPERIOR)"
   ]
  },
  {
   "cell_type": "markdown",
   "metadata": {},
   "source": [
    "## Matriz Diagonal"
   ]
  },
  {
   "cell_type": "code",
   "execution_count": 9,
   "metadata": {},
   "outputs": [
    {
     "data": {
      "text/plain": [
       "array([ 1,  4,  7, 62])"
      ]
     },
     "execution_count": 9,
     "metadata": {},
     "output_type": "execute_result"
    }
   ],
   "source": [
    "# En una Matriz Diagonal, todos los elementos fuera de la diagonal principal tienen el valor de 0\n",
    "np.diag(TRI)"
   ]
  },
  {
   "cell_type": "code",
   "execution_count": 10,
   "metadata": {},
   "outputs": [
    {
     "name": "stdout",
     "output_type": "stream",
     "text": [
      "[[1 0 9]\n",
      " [3 4 8]]\n"
     ]
    },
    {
     "data": {
      "text/plain": [
       "array([1, 4])"
      ]
     },
     "execution_count": 10,
     "metadata": {},
     "output_type": "execute_result"
    }
   ],
   "source": [
    "# Para obtener la diagonal de una matriz, no es necesario que la misma sea cuadrada\n",
    "print(TR2)\n",
    "np.diag(TR2)"
   ]
  },
  {
   "cell_type": "markdown",
   "metadata": {},
   "source": [
    "## Matriz Identidad"
   ]
  },
  {
   "cell_type": "code",
   "execution_count": 11,
   "metadata": {},
   "outputs": [
    {
     "data": {
      "text/plain": [
       "array([[1., 0., 0., 0.],\n",
       "       [0., 1., 0., 0.],\n",
       "       [0., 0., 1., 0.],\n",
       "       [0., 0., 0., 1.]])"
      ]
     },
     "execution_count": 11,
     "metadata": {},
     "output_type": "execute_result"
    }
   ],
   "source": [
    "# Es la matriz que tiene 1 en la diagonal principal y ceros en el resto de sus elementos\n",
    "np.identity(4)"
   ]
  },
  {
   "cell_type": "markdown",
   "metadata": {},
   "source": [
    "## Matriz inversa [Operación]"
   ]
  },
  {
   "cell_type": "code",
   "execution_count": 12,
   "metadata": {},
   "outputs": [
    {
     "name": "stdout",
     "output_type": "stream",
     "text": [
      "[[-1  1]\n",
      " [-2  3]]\n",
      "-----------------\n",
      "[[-3.  1.]\n",
      " [-2.  1.]]\n",
      "-----------------\n",
      "[[1. 0.]\n",
      " [0. 1.]]\n"
     ]
    }
   ],
   "source": [
    "# Es aquella matriz que multiplicada por la matriz de origen da como resultado la matriz identidad\n",
    "#     A . (A ^(-1)) = I\n",
    "A = np.array([[-1, 1], [-2, 3]])\n",
    "print(A)\n",
    "print(\"-----------------\")\n",
    "# Calculamos la inversa de la matriz\n",
    "A_inv = np.linalg.inv(A)\n",
    "print(A_inv)\n",
    "print(\"-----------------\")\n",
    "# Verificamos la condicion\n",
    "I = A.dot(A_inv)\n",
    "print(I)"
   ]
  },
  {
   "cell_type": "code",
   "execution_count": 13,
   "metadata": {},
   "outputs": [
    {
     "name": "stdout",
     "output_type": "stream",
     "text": [
      "[[1 2]\n",
      " [3 4]]\n",
      "-----------------\n",
      "[[-2.   1. ]\n",
      " [ 1.5 -0.5]]\n",
      "-----------------\n",
      "[[1.00000000e+00 1.11022302e-16]\n",
      " [0.00000000e+00 1.00000000e+00]]\n"
     ]
    }
   ],
   "source": [
    "# Ahora definamos otra matriz y calculemos su inversa\n",
    "A = np.array([[1, 2], [3, 4]])\n",
    "print(A)\n",
    "print(\"-----------------\")\n",
    "# Calculamos la inversa de la matriz\n",
    "A_inv = np.linalg.inv(A)\n",
    "print(A_inv)\n",
    "print(\"-----------------\")\n",
    "# Verificamos la condicion\n",
    "I = A.dot(A_inv)\n",
    "print(I)\n"
   ]
  },
  {
   "cell_type": "markdown",
   "metadata": {},
   "source": [
    "## Matriz Singular"
   ]
  },
  {
   "cell_type": "code",
   "execution_count": 14,
   "metadata": {},
   "outputs": [],
   "source": [
    "# No todas las matrices son invertibles. (Matrices Singulares)"
   ]
  },
  {
   "cell_type": "markdown",
   "metadata": {},
   "source": [
    "## Traza de una matriz  [Operación]"
   ]
  },
  {
   "cell_type": "code",
   "execution_count": 15,
   "metadata": {},
   "outputs": [
    {
     "name": "stdout",
     "output_type": "stream",
     "text": [
      "[[ 1  2  9 22]\n",
      " [ 3  4  8 32]\n",
      " [ 5  6  7 42]\n",
      " [ 9  2  3 62]]\n"
     ]
    }
   ],
   "source": [
    "# Es la sumatoria de los elementos de la diagonal principal de la matriz\n",
    "print(TRI)"
   ]
  },
  {
   "cell_type": "code",
   "execution_count": 16,
   "metadata": {},
   "outputs": [
    {
     "data": {
      "text/plain": [
       "74"
      ]
     },
     "execution_count": 16,
     "metadata": {},
     "output_type": "execute_result"
    }
   ],
   "source": [
    "np.trace(TRI)"
   ]
  },
  {
   "cell_type": "markdown",
   "metadata": {},
   "source": [
    "## Matriz Dispersa (Sparse Matrix)"
   ]
  },
  {
   "cell_type": "code",
   "execution_count": 17,
   "metadata": {},
   "outputs": [],
   "source": [
    "# Son matrices donde la mayor cantidad de elementos son 0"
   ]
  },
  {
   "cell_type": "code",
   "execution_count": 18,
   "metadata": {},
   "outputs": [],
   "source": [
    "A = np.array([\n",
    "    [2, 0, 0, 0, 0, 0, 9, 0],\n",
    "    [0, 1, 0, 0, 0, 0, 0, 2],\n",
    "    [0, 0, 0, 0, 2, 0, 0, 0],\n",
    "    [8, 0, 0, 0, 0, 0, 0, 0]\n",
    "])"
   ]
  },
  {
   "cell_type": "code",
   "execution_count": 19,
   "metadata": {},
   "outputs": [],
   "source": [
    "# sparsity = conteo_de_elementos_zero/ total_elementos\n",
    "sparsity = 1 - np.count_nonzero(A) / (A.size)"
   ]
  },
  {
   "cell_type": "code",
   "execution_count": 20,
   "metadata": {},
   "outputs": [
    {
     "data": {
      "text/plain": [
       "0.8125"
      ]
     },
     "execution_count": 20,
     "metadata": {},
     "output_type": "execute_result"
    }
   ],
   "source": [
    "sparsity"
   ]
  },
  {
   "cell_type": "code",
   "execution_count": 21,
   "metadata": {},
   "outputs": [],
   "source": [
    "from scipy.sparse import csr_matrix"
   ]
  },
  {
   "cell_type": "code",
   "execution_count": 22,
   "metadata": {},
   "outputs": [
    {
     "name": "stdout",
     "output_type": "stream",
     "text": [
      "  (0, 0)\t2\n",
      "  (0, 6)\t9\n",
      "  (1, 1)\t1\n",
      "  (1, 7)\t2\n",
      "  (2, 4)\t2\n",
      "  (3, 0)\t8\n"
     ]
    }
   ],
   "source": [
    "# Salvar espacio\n",
    "# Compressed Sparse Row\n",
    "A_crow = csr_matrix(A)\n",
    "print(A_crow)"
   ]
  },
  {
   "cell_type": "code",
   "execution_count": 23,
   "metadata": {},
   "outputs": [
    {
     "data": {
      "text/plain": [
       "matrix([[2, 0, 0, 0, 0, 0, 9, 0],\n",
       "        [0, 1, 0, 0, 0, 0, 0, 2],\n",
       "        [0, 0, 0, 0, 2, 0, 0, 0],\n",
       "        [8, 0, 0, 0, 0, 0, 0, 0]], dtype=int64)"
      ]
     },
     "execution_count": 23,
     "metadata": {},
     "output_type": "execute_result"
    }
   ],
   "source": [
    "# Reconstruimos la matriz\n",
    "A_crow.todense()"
   ]
  },
  {
   "cell_type": "markdown",
   "metadata": {},
   "source": [
    "# Tensores"
   ]
  },
  {
   "cell_type": "code",
   "execution_count": 24,
   "metadata": {},
   "outputs": [],
   "source": [
    "TEN1 = np.array([\n",
    "    [\n",
    "        [2,3,1], \n",
    "        [4,2,4],\n",
    "        [5,2,4]\n",
    "    ],\n",
    "    [\n",
    "        [12,89,122], \n",
    "        [33,23,33],\n",
    "        [22,44,311]\n",
    "    ],\n",
    "    [\n",
    "        [2,1,233], \n",
    "        [33,66,33],\n",
    "        [74,32,33]\n",
    "    ],\n",
    "])"
   ]
  },
  {
   "cell_type": "code",
   "execution_count": 25,
   "metadata": {},
   "outputs": [
    {
     "data": {
      "text/plain": [
       "array([[[  2,   3,   1],\n",
       "        [  4,   2,   4],\n",
       "        [  5,   2,   4]],\n",
       "\n",
       "       [[ 12,  89, 122],\n",
       "        [ 33,  23,  33],\n",
       "        [ 22,  44, 311]],\n",
       "\n",
       "       [[  2,   1, 233],\n",
       "        [ 33,  66,  33],\n",
       "        [ 74,  32,  33]]])"
      ]
     },
     "execution_count": 25,
     "metadata": {},
     "output_type": "execute_result"
    }
   ],
   "source": [
    "TEN1"
   ]
  },
  {
   "cell_type": "code",
   "execution_count": 26,
   "metadata": {},
   "outputs": [
    {
     "data": {
      "text/plain": [
       "(3, 3, 3)"
      ]
     },
     "execution_count": 26,
     "metadata": {},
     "output_type": "execute_result"
    }
   ],
   "source": [
    "TEN1.shape"
   ]
  }
 ],
 "metadata": {
  "kernelspec": {
   "display_name": "Python 3",
   "language": "python",
   "name": "python3"
  },
  "language_info": {
   "codemirror_mode": {
    "name": "ipython",
    "version": 3
   },
   "file_extension": ".py",
   "mimetype": "text/x-python",
   "name": "python",
   "nbconvert_exporter": "python",
   "pygments_lexer": "ipython3",
   "version": "3.6.5"
  }
 },
 "nbformat": 4,
 "nbformat_minor": 2
}
